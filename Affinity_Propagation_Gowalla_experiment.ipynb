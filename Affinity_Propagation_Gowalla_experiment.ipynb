{
 "cells": [
  {
   "cell_type": "code",
   "execution_count": 34,
   "metadata": {},
   "outputs": [
    {
     "name": "stdout",
     "output_type": "stream",
     "text": [
      "(1900654, 2)\n"
     ]
    }
   ],
   "source": [
    "import numpy as np\n",
    "edges = np.loadtxt('Gowalla_edges.txt',dtype=int)\n",
    "print(edges.shape) #1900654 amount of pair examples\n"
   ]
  },
  {
   "cell_type": "code",
   "execution_count": 35,
   "metadata": {},
   "outputs": [],
   "source": [
    "#Just for comparison\n",
    "#Unique users amount\n",
    "nodes_dat=196591 \n",
    "#Connections between users\n",
    "edges_dat=950327\n",
    "#Total num of check ins\n",
    "checkins_dat=6442890\n"
   ]
  },
  {
   "cell_type": "code",
   "execution_count": 61,
   "metadata": {
    "scrolled": true
   },
   "outputs": [
    {
     "name": "stdout",
     "output_type": "stream",
     "text": [
      "[     0      1      2 ... 196588 196589 196590]\n",
      "196591\n",
      "(1900654,)\n",
      "(2097245, 2)\n"
     ]
    }
   ],
   "source": [
    "#Data preprocessing building message graph==similarity\n",
    "#Unique users array\n",
    "users=np.unique(edges)\n",
    "print(users)\n",
    "#Unique users amount\n",
    "n=len(users)\n",
    "print(n)\n",
    "\n",
    "# S, A, R matrices (n,n) but dimension is too large even for sparse matrix, thats why need to concatenate parts \n",
    "#or use np.array\n",
    "connections=[]\n",
    "similarity_list=[]\n",
    "\n",
    "for i in range (0,len(edges)):\n",
    "    #users connection from ->to\n",
    "    #pair=(edges[i][0],edges[i][1])\n",
    "    connections.append((edges[i][0],edges[i][1]))\n",
    "    #each connection markes as 1 in simularity array \n",
    "    similarity_list.append(1)\n",
    "    \n",
    "for user in range(0,n):\n",
    "    connections.append((user,user))# self-connection add as pair\n",
    "#transform to numpy array for memory\n",
    "similarity_array = np.array(similarity_list) #this is without self-simularity\n",
    "print(np.shape(similarity_array)) #1900654 all pairs were added \n",
    "print(np.shape(connections))#(2097245, 2) =1900654(pairs)+196591(self)"
   ]
  },
  {
   "cell_type": "code",
   "execution_count": 187,
   "metadata": {},
   "outputs": [],
   "source": [
    "def update_responsibility(S,A,R_old,connections,damping):\n",
    "    #sum in formula\n",
    "    V = S + A#(2097245\n",
    "    #need to store 2 max sum arrays because we need to avoid self value being max value\n",
    "    #initialize as -inf\n",
    "    first_max=np.repeat(-np.inf, n)#np.full(-np.inf,n)#196591 as rows\n",
    "    second_max=np.repeat(-np.inf, n)\n",
    "    pair_max=np.repeat(np.inf, n)\n",
    "\n",
    "    for idx,pair in enumerate(connections):\n",
    "        #print(pair)\n",
    "        #connection and V have same dimension and idxes order\n",
    "        #for pair[0] first user update max and remember \n",
    "        if first_max[pair[0]]<V[idx]:\n",
    "            second_max[pair[0]]=first_max[pair[0]]\n",
    "            first_max[pair[0]]=V[idx]\n",
    "            #store number of second user with which first one has max V\n",
    "            pair_max[pair[0]]=pair[1]\n",
    "        elif second_max[pair[0]]<V[idx]:\n",
    "            second_max[pair[0]]=V[idx]\n",
    "    #because we need to substract max from it        \n",
    "    R=S.copy()   \n",
    "    for idx,pair in enumerate(connections):\n",
    "        #if it is self responsibility value then take second_max \n",
    "        if pair_max[pair[0]] == pair[1]:\n",
    "            R[idx]-=second_max[pair[0]]\n",
    "        else:\n",
    "            R[idx]-=first_max[pair[0]]\n",
    "        \n",
    "    return R_old*damping+(1-damping)*R\n",
    "    #return R"
   ]
  },
  {
   "cell_type": "code",
   "execution_count": 188,
   "metadata": {},
   "outputs": [],
   "source": [
    "def update_availability(A,R,connections,damping):\n",
    "    A_old=A.copy()\n",
    "    #drop self-resp values\n",
    "    R_copy = R.copy()\n",
    "    #max between 0 and responsibility value (if negative make it zero), a(k,k) counted here\n",
    "    #len(edges) meaning we dont consider self-r values\n",
    "    for i in range(0,len(edges)):\n",
    "        #r[r < 0] = 0\n",
    "        if R_copy[i] < 0:\n",
    "            R_copy[i] = 0\n",
    "    positive_r = np.repeat(0, n) #np.full(0,n)\n",
    "    \n",
    "    for idx, pair in enumerate(connections):\n",
    "        positive_r[pair[1]] += R_copy[idx]\n",
    "    \n",
    "    for idx, pair in enumerate(connections):\n",
    "        A[idx] = positive_r[pair[1]] - R_copy[idx]\n",
    "    #count min\n",
    "    for i in range(0,len(edges)):\n",
    "        A[i] = np.min([0, A[i]])\n",
    "    return A_old*damping+(1-damping)*A\n",
    "    #return A"
   ]
  },
  {
   "cell_type": "code",
   "execution_count": 189,
   "metadata": {},
   "outputs": [],
   "source": [
    "def get_exemplars(R,A,connections):\n",
    "    temp = np.repeat(-np.inf, n)# stores max values for comparison\n",
    "    exemplars = dict() #store as dictionary with indexes because otherwise indexes is non int values for transitivity\n",
    "    #sum responsibility and availability \n",
    "    value_sum = R+A\n",
    "    # for each user get exemplar\n",
    "    for idx, pair in enumerate(connections):\n",
    "        #find max val\n",
    "        #if value_sum for this user is bigger than stored max value, then update\n",
    "        # and add user idx with which this msx value is achieved as exemplar for initial user\n",
    "        if value_sum[idx] > temp[pair[0]]:\n",
    "            temp[pair[0]] = value_sum[idx]\n",
    "            exemplars[pair[0]] = pair[1] #for user_1 store user_2 as exemplar (if value_sum with user_2 is bigger)\n",
    "    for i in range(20):        \n",
    "        for exempl_a in exemplars.keys(): \n",
    "            exempl_b = exemplars[exempl_a] #exemplar b for user a\n",
    "            if exemplars[exempl_b] != exempl_b: #if b is not exemplar for b (self-exemplar)\n",
    "                exempl_с = exemplars[exempl_b] #find exemplar for b, it is c\n",
    "                exemplars[exempl_a] = exempl_с #update main: put exemplar c as exemplae for a  \n",
    "    return exemplars"
   ]
  },
  {
   "cell_type": "code",
   "execution_count": 190,
   "metadata": {},
   "outputs": [],
   "source": [
    "def affinity_propagation(similarity_array_input,connections,num_iterations,self_similarity_param):\n",
    "    #Initialization \n",
    "    #similarity: 1=if there is a connection between users, 0=if there is no connection\n",
    "    #self_similarity_param=if it is self-connection\n",
    "    similarity_array=np.append(similarity_array_input,np.repeat(self_similarity_param,n))\n",
    "    #as zero\n",
    "    responsibility_array=np.repeat(0, similarity_array.shape[0])#np.zeros(len(similarity_array)) #(2097245,)\n",
    "    availability_array=np.repeat(0, similarity_array.shape[0]) #np.zeros(len(similarity_array)) #(2097245,)\n",
    "    #print(np.shape(responsibility_array)) \n",
    "    for i in range(0,num_iterations):\n",
    "        #Step 1\n",
    "        responsibility_array=update_responsibility(similarity_array,availability_array,responsibility_array,connections,damping=0.9)\n",
    "        #Step 2\n",
    "        availability_array=update_availability(availability_array,responsibility_array,connections,damping=0.9)\n",
    "        print(i)\n",
    "    #Based on counted values get examplars as max for each cluster    \n",
    "    exemplars=get_exemplars(responsibility_array,availability_array,connections)\n",
    "    \n",
    "    return exemplars\n",
    "\n",
    "#affinity_propagation(similarity_array,connections,1,-1.5)\n"
   ]
  },
  {
   "cell_type": "code",
   "execution_count": 191,
   "metadata": {},
   "outputs": [
    {
     "name": "stdout",
     "output_type": "stream",
     "text": [
      "0\n",
      "1\n",
      "2\n",
      "3\n",
      "4\n",
      "5\n",
      "6\n",
      "7\n",
      "8\n",
      "9\n",
      "10\n",
      "11\n",
      "12\n",
      "13\n",
      "14\n",
      "15\n",
      "16\n",
      "17\n",
      "18\n",
      "19\n"
     ]
    }
   ],
   "source": [
    "res_exemplars = affinity_propagation(similarity_array,connections,num_iterations=20,self_similarity_param=-1.5)"
   ]
  },
  {
   "cell_type": "code",
   "execution_count": 192,
   "metadata": {},
   "outputs": [
    {
     "name": "stdout",
     "output_type": "stream",
     "text": [
      "Clusters amount: 10658\n"
     ]
    }
   ],
   "source": [
    "#Amount of clusters\n",
    "clusters=sorted(list(set(res_exemplars.values())))#get unique values from dict by set\n",
    "print(\"Clusters amount:\", len(clusters))"
   ]
  },
  {
   "cell_type": "code",
   "execution_count": 269,
   "metadata": {},
   "outputs": [],
   "source": [
    "clusters_for_df=(list(res_exemplars.values()))\n",
    "np.savetxt('clusters.txt', clusters_for_df, delimiter=',')"
   ]
  },
  {
   "cell_type": "code",
   "execution_count": 193,
   "metadata": {},
   "outputs": [
    {
     "name": "stdout",
     "output_type": "stream",
     "text": [
      "Max cluster size: 23184\n",
      "Min cluster size 2\n"
     ]
    }
   ],
   "source": [
    "#Size of clusters\n",
    "cluster_size = dict()# dictionary to store cluster with amount of its users\n",
    "for exemplar in res_exemplars.values():\n",
    "    if exemplar not in cluster_size:\n",
    "        cluster_size[exemplar] = 1\n",
    "    else:\n",
    "        cluster_size[exemplar] += 1\n",
    "print(\"Max cluster size:\", max(cluster_size.values()))\n",
    "print(\"Min cluster size\", min(cluster_size.values()))"
   ]
  },
  {
   "cell_type": "code",
   "execution_count": 178,
   "metadata": {},
   "outputs": [],
   "source": [
    "#print(list(res_exemplars.values()))\n",
    "#print (\"Clusters values:\", sorted(list(set(res_exemplars.values()))))\n",
    "#print (\"Clusters values:\", clusters)\n"
   ]
  },
  {
   "cell_type": "markdown",
   "metadata": {},
   "source": [
    "**Histogram of all clusters**"
   ]
  },
  {
   "cell_type": "code",
   "execution_count": 194,
   "metadata": {},
   "outputs": [
    {
     "data": {
      "image/png": "[encoded data removed]",
      "text/plain": [
       "<Figure size 432x288 with 1 Axes>"
      ]
     },
     "metadata": {
      "needs_background": "light"
     },
     "output_type": "display_data"
    }
   ],
   "source": [
    "import matplotlib.pyplot as plt\n",
    "%matplotlib inline\n",
    "plt.hist(cluster_size.values(), bins=100)\n",
    "plt.xlabel(\"Clusters size\")\n",
    "plt.ylabel(\"Clusters amount\")\n",
    "plt.title(\"Histogram of all clusters\")\n",
    "plt.show()"
   ]
  },
  {
   "cell_type": "markdown",
   "metadata": {},
   "source": [
    "**Histogram of most popular sized clusters**"
   ]
  },
  {
   "cell_type": "code",
   "execution_count": 195,
   "metadata": {},
   "outputs": [
    {
     "data": {
      "image/png": "[encoded data removed]",
      "text/plain": [
       "<Figure size 432x288 with 1 Axes>"
      ]
     },
     "metadata": {
      "needs_background": "light"
     },
     "output_type": "display_data"
    }
   ],
   "source": [
    "plt.hist(cluster_size.values(), bins=100, range=(0, 100))\n",
    "plt.xlabel(\"Clusters size\")\n",
    "plt.ylabel(\"Clusters amount\")\n",
    "plt.title(\"Histogram of most popular clusters\")\n",
    "plt.show()"
   ]
  },
  {
   "cell_type": "markdown",
   "metadata": {},
   "source": [
    "**Histogram of small sized clusters**"
   ]
  },
  {
   "cell_type": "code",
   "execution_count": 196,
   "metadata": {},
   "outputs": [
    {
     "data": {
      "image/png": "[encoded data removed]",
      "text/plain": [
       "<Figure size 432x288 with 1 Axes>"
      ]
     },
     "metadata": {
      "needs_background": "light"
     },
     "output_type": "display_data"
    }
   ],
   "source": [
    "plt.hist(cluster_size.values(),bins= range(1,12), range=(0, 11))\n",
    "plt.xlabel(\"Clusters size\")\n",
    "plt.ylabel(\"Clusters amount\")\n",
    "plt.title(\"Histogram of small sized clusters\")\n",
    "plt.show()"
   ]
  },
  {
   "cell_type": "markdown",
   "metadata": {},
   "source": [
    "**Histogram of big sized clusters**"
   ]
  },
  {
   "cell_type": "code",
   "execution_count": 199,
   "metadata": {},
   "outputs": [
    {
     "data": {
      "image/png": "[encoded data removed]",
      "text/plain": [
       "<Figure size 432x288 with 1 Axes>"
      ]
     },
     "metadata": {
      "needs_background": "light"
     },
     "output_type": "display_data"
    }
   ],
   "source": [
    "plt.hist(cluster_size.values(), bins=10, range=(1000, 24000))\n",
    "plt.xlabel(\"Clusters size\")\n",
    "plt.ylabel(\"Clusters amount\")\n",
    "plt.title(\"Histogram of big sized clusters\")\n",
    "plt.show()"
   ]
  },
  {
   "cell_type": "code",
   "execution_count": 208,
   "metadata": {},
   "outputs": [
    {
     "data": {
      "text/html": [
       "<div>\n",
       "<style scoped>\n",
       "    .dataframe tbody tr th:only-of-type {\n",
       "        vertical-align: middle;\n",
       "    }\n",
       "\n",
       "    .dataframe tbody tr th {\n",
       "        vertical-align: top;\n",
       "    }\n",
       "\n",
       "    .dataframe thead th {\n",
       "        text-align: right;\n",
       "    }\n",
       "</style>\n",
       "<table border=\"1\" class=\"dataframe\">\n",
       "  <thead>\n",
       "    <tr style=\"text-align: right;\">\n",
       "      <th></th>\n",
       "      <th>user_id</th>\n",
       "      <th>location_id</th>\n",
       "    </tr>\n",
       "  </thead>\n",
       "  <tbody>\n",
       "    <tr>\n",
       "      <td>0</td>\n",
       "      <td>0</td>\n",
       "      <td>22847</td>\n",
       "    </tr>\n",
       "    <tr>\n",
       "      <td>1</td>\n",
       "      <td>0</td>\n",
       "      <td>420315</td>\n",
       "    </tr>\n",
       "    <tr>\n",
       "      <td>2</td>\n",
       "      <td>0</td>\n",
       "      <td>316637</td>\n",
       "    </tr>\n",
       "    <tr>\n",
       "      <td>3</td>\n",
       "      <td>0</td>\n",
       "      <td>16516</td>\n",
       "    </tr>\n",
       "    <tr>\n",
       "      <td>4</td>\n",
       "      <td>0</td>\n",
       "      <td>5535878</td>\n",
       "    </tr>\n",
       "  </tbody>\n",
       "</table>\n",
       "</div>"
      ],
      "text/plain": [
       "   user_id  location_id\n",
       "0        0        22847\n",
       "1        0       420315\n",
       "2        0       316637\n",
       "3        0        16516\n",
       "4        0      5535878"
      ]
     },
     "execution_count": 208,
     "metadata": {},
     "output_type": "execute_result"
    }
   ],
   "source": [
    "import pandas as pd\n",
    "df_checkins = pd.read_csv(\"Gowalla_totalCheckins.txt\", sep=\"\t\", header=None).drop_duplicates()[[0, 4]]\n",
    "df_checkins.columns = [\"user_id\", \"location_id\"]\n",
    "df_checkins.head()\n",
    "#chekins = np.loadtxt('Gowalla_totalCheckins.txt')\n",
    "#print(checkins.shape) #1900654 amount of pair examples\n"
   ]
  },
  {
   "cell_type": "code",
   "execution_count": 277,
   "metadata": {},
   "outputs": [
    {
     "name": "stdout",
     "output_type": "stream",
     "text": [
      "196591\n"
     ]
    },
    {
     "data": {
      "text/html": [
       "<div>\n",
       "<style scoped>\n",
       "    .dataframe tbody tr th:only-of-type {\n",
       "        vertical-align: middle;\n",
       "    }\n",
       "\n",
       "    .dataframe tbody tr th {\n",
       "        vertical-align: top;\n",
       "    }\n",
       "\n",
       "    .dataframe thead th {\n",
       "        text-align: right;\n",
       "    }\n",
       "</style>\n",
       "<table border=\"1\" class=\"dataframe\">\n",
       "  <thead>\n",
       "    <tr style=\"text-align: right;\">\n",
       "      <th></th>\n",
       "      <th>user_id</th>\n",
       "      <th>cluster_id</th>\n",
       "    </tr>\n",
       "  </thead>\n",
       "  <tbody>\n",
       "    <tr>\n",
       "      <td>0</td>\n",
       "      <td>0</td>\n",
       "      <td>1</td>\n",
       "    </tr>\n",
       "    <tr>\n",
       "      <td>1</td>\n",
       "      <td>1</td>\n",
       "      <td>1</td>\n",
       "    </tr>\n",
       "    <tr>\n",
       "      <td>2</td>\n",
       "      <td>2</td>\n",
       "      <td>2</td>\n",
       "    </tr>\n",
       "    <tr>\n",
       "      <td>3</td>\n",
       "      <td>3</td>\n",
       "      <td>3</td>\n",
       "    </tr>\n",
       "    <tr>\n",
       "      <td>4</td>\n",
       "      <td>4</td>\n",
       "      <td>234</td>\n",
       "    </tr>\n",
       "  </tbody>\n",
       "</table>\n",
       "</div>"
      ],
      "text/plain": [
       "   user_id  cluster_id\n",
       "0        0           1\n",
       "1        1           1\n",
       "2        2           2\n",
       "3        3           3\n",
       "4        4         234"
      ]
     },
     "execution_count": 277,
     "metadata": {},
     "output_type": "execute_result"
    }
   ],
   "source": [
    "clusters = clusters_for_df\n",
    "print(len(clusters))\n",
    "df_clusters = pd.DataFrame(clusters)\n",
    "df_clusters = df_clusters.reset_index()\n",
    "df_clusters.columns = [\"user_id\", \"cluster_id\"]\n",
    "df_clusters.head()"
   ]
  },
  {
   "cell_type": "code",
   "execution_count": 278,
   "metadata": {},
   "outputs": [
    {
     "data": {
      "text/html": [
       "<div>\n",
       "<style scoped>\n",
       "    .dataframe tbody tr th:only-of-type {\n",
       "        vertical-align: middle;\n",
       "    }\n",
       "\n",
       "    .dataframe tbody tr th {\n",
       "        vertical-align: top;\n",
       "    }\n",
       "\n",
       "    .dataframe thead th {\n",
       "        text-align: right;\n",
       "    }\n",
       "</style>\n",
       "<table border=\"1\" class=\"dataframe\">\n",
       "  <thead>\n",
       "    <tr style=\"text-align: right;\">\n",
       "      <th></th>\n",
       "      <th>user_id</th>\n",
       "      <th>location_id</th>\n",
       "      <th>cluster_id</th>\n",
       "    </tr>\n",
       "  </thead>\n",
       "  <tbody>\n",
       "    <tr>\n",
       "      <td>0</td>\n",
       "      <td>0</td>\n",
       "      <td>22847</td>\n",
       "      <td>1</td>\n",
       "    </tr>\n",
       "    <tr>\n",
       "      <td>1</td>\n",
       "      <td>0</td>\n",
       "      <td>420315</td>\n",
       "      <td>1</td>\n",
       "    </tr>\n",
       "    <tr>\n",
       "      <td>2</td>\n",
       "      <td>0</td>\n",
       "      <td>316637</td>\n",
       "      <td>1</td>\n",
       "    </tr>\n",
       "    <tr>\n",
       "      <td>3</td>\n",
       "      <td>0</td>\n",
       "      <td>16516</td>\n",
       "      <td>1</td>\n",
       "    </tr>\n",
       "    <tr>\n",
       "      <td>4</td>\n",
       "      <td>0</td>\n",
       "      <td>5535878</td>\n",
       "      <td>1</td>\n",
       "    </tr>\n",
       "  </tbody>\n",
       "</table>\n",
       "</div>"
      ],
      "text/plain": [
       "   user_id  location_id  cluster_id\n",
       "0        0        22847           1\n",
       "1        0       420315           1\n",
       "2        0       316637           1\n",
       "3        0        16516           1\n",
       "4        0      5535878           1"
      ]
     },
     "execution_count": 278,
     "metadata": {},
     "output_type": "execute_result"
    }
   ],
   "source": [
    "df = pd.merge(df_checkins, df_clusters, on=['user_id'])\n",
    "df.head()"
   ]
  },
  {
   "cell_type": "code",
   "execution_count": 279,
   "metadata": {},
   "outputs": [
    {
     "name": "stdout",
     "output_type": "stream",
     "text": [
      "107092\n"
     ]
    }
   ],
   "source": [
    "users_with_location = np.unique(df_checkins.user_id)\n",
    "print(len(users_with_location)) #107092 =users who left location ,all users =196591 (so, 90000 missing)\n"
   ]
  },
  {
   "cell_type": "code",
   "execution_count": 280,
   "metadata": {},
   "outputs": [
    {
     "name": "stdout",
     "output_type": "stream",
     "text": [
      "(96382,)\n",
      "(10710,)\n"
     ]
    }
   ],
   "source": [
    "#make train test for users\n",
    "from sklearn.model_selection import train_test_split\n",
    "train_users, test_users = train_test_split(users_with_location, test_size=0.1, shuffle=True)\n",
    "print(np.shape(train_users))\n",
    "print(np.shape(test_users))"
   ]
  },
  {
   "cell_type": "code",
   "execution_count": 285,
   "metadata": {},
   "outputs": [
    {
     "data": {
      "text/html": [
       "<div>\n",
       "<style scoped>\n",
       "    .dataframe tbody tr th:only-of-type {\n",
       "        vertical-align: middle;\n",
       "    }\n",
       "\n",
       "    .dataframe tbody tr th {\n",
       "        vertical-align: top;\n",
       "    }\n",
       "\n",
       "    .dataframe thead th {\n",
       "        text-align: right;\n",
       "    }\n",
       "</style>\n",
       "<table border=\"1\" class=\"dataframe\">\n",
       "  <thead>\n",
       "    <tr style=\"text-align: right;\">\n",
       "      <th></th>\n",
       "      <th>user_id</th>\n",
       "      <th>location_id</th>\n",
       "      <th>cluster_id</th>\n",
       "    </tr>\n",
       "  </thead>\n",
       "  <tbody>\n",
       "    <tr>\n",
       "      <td>3167</td>\n",
       "      <td>15</td>\n",
       "      <td>1545684</td>\n",
       "      <td>22</td>\n",
       "    </tr>\n",
       "    <tr>\n",
       "      <td>3168</td>\n",
       "      <td>15</td>\n",
       "      <td>78751</td>\n",
       "      <td>22</td>\n",
       "    </tr>\n",
       "    <tr>\n",
       "      <td>3169</td>\n",
       "      <td>15</td>\n",
       "      <td>11848</td>\n",
       "      <td>22</td>\n",
       "    </tr>\n",
       "    <tr>\n",
       "      <td>3170</td>\n",
       "      <td>15</td>\n",
       "      <td>11844</td>\n",
       "      <td>22</td>\n",
       "    </tr>\n",
       "    <tr>\n",
       "      <td>3171</td>\n",
       "      <td>15</td>\n",
       "      <td>327028</td>\n",
       "      <td>22</td>\n",
       "    </tr>\n",
       "  </tbody>\n",
       "</table>\n",
       "</div>"
      ],
      "text/plain": [
       "      user_id  location_id  cluster_id\n",
       "3167       15      1545684          22\n",
       "3168       15        78751          22\n",
       "3169       15        11848          22\n",
       "3170       15        11844          22\n",
       "3171       15       327028          22"
      ]
     },
     "execution_count": 285,
     "metadata": {},
     "output_type": "execute_result"
    }
   ],
   "source": [
    "#cut this train and test inside df initial with locations\n",
    "train_checkins = df.loc[df.user_id.isin(train_users)]\n",
    "test_checkins = df.loc[df.user_id.isin(test_users)]\n",
    "test_checkins.head()"
   ]
  },
  {
   "cell_type": "code",
   "execution_count": 282,
   "metadata": {},
   "outputs": [
    {
     "name": "stdout",
     "output_type": "stream",
     "text": [
      "[55033, 19542, 9410, 10259, 58725, 14470, 9246, 23256, 9241, 10190]\n"
     ]
    }
   ],
   "source": [
    "#get TOP10 locations for train as array\n",
    "top10_locations = list(train_checkins.groupby(by='location_id')['location_id'].count().sort_values(ascending = False).iloc[:10].index)\n",
    "print(top10_locations)\n",
    "#train_loc_ratings = train_checkins.groupby(by = [\"cluster_id\", \"location_id\"])[\"location_id\"].count()\n",
    "#train_loc_ratings = train_loc_ratings.reset_index(name='rating').sort_values(by = [\"cluster_id\", \"rating\"], ascending = False)\n"
   ]
  },
  {
   "cell_type": "code",
   "execution_count": 296,
   "metadata": {},
   "outputs": [
    {
     "data": {
      "text/html": [
       "<div>\n",
       "<style scoped>\n",
       "    .dataframe tbody tr th:only-of-type {\n",
       "        vertical-align: middle;\n",
       "    }\n",
       "\n",
       "    .dataframe tbody tr th {\n",
       "        vertical-align: top;\n",
       "    }\n",
       "\n",
       "    .dataframe thead th {\n",
       "        text-align: right;\n",
       "    }\n",
       "</style>\n",
       "<table border=\"1\" class=\"dataframe\">\n",
       "  <thead>\n",
       "    <tr style=\"text-align: right;\">\n",
       "      <th></th>\n",
       "      <th>cluster_id</th>\n",
       "      <th>location_id</th>\n",
       "      <th>rating</th>\n",
       "    </tr>\n",
       "  </thead>\n",
       "  <tbody>\n",
       "    <tr>\n",
       "      <td>2912574</td>\n",
       "      <td>196561</td>\n",
       "      <td>214095</td>\n",
       "      <td>16</td>\n",
       "    </tr>\n",
       "    <tr>\n",
       "      <td>2912582</td>\n",
       "      <td>196561</td>\n",
       "      <td>449112</td>\n",
       "      <td>16</td>\n",
       "    </tr>\n",
       "    <tr>\n",
       "      <td>2912603</td>\n",
       "      <td>196561</td>\n",
       "      <td>1887009</td>\n",
       "      <td>13</td>\n",
       "    </tr>\n",
       "    <tr>\n",
       "      <td>2912606</td>\n",
       "      <td>196561</td>\n",
       "      <td>2312134</td>\n",
       "      <td>11</td>\n",
       "    </tr>\n",
       "    <tr>\n",
       "      <td>2912598</td>\n",
       "      <td>196561</td>\n",
       "      <td>1597498</td>\n",
       "      <td>7</td>\n",
       "    </tr>\n",
       "  </tbody>\n",
       "</table>\n",
       "</div>"
      ],
      "text/plain": [
       "         cluster_id  location_id  rating\n",
       "2912574      196561       214095      16\n",
       "2912582      196561       449112      16\n",
       "2912603      196561      1887009      13\n",
       "2912606      196561      2312134      11\n",
       "2912598      196561      1597498       7"
      ]
     },
     "execution_count": 296,
     "metadata": {},
     "output_type": "execute_result"
    }
   ],
   "source": [
    "#for tracking top values of cluster location\n",
    "#so, count rating=amount of times user in this cluster check-ins in this location \n",
    "train_loc_ratings = train_checkins.groupby(by = [\"cluster_id\", \"location_id\"])[\"location_id\"].count()\n",
    "\n",
    "train_loc_ratings = train_loc_ratings.reset_index(name='rating').sort_values(by = [\"cluster_id\", \"rating\"], ascending = False)\n",
    "train_loc_ratings.head()"
   ]
  },
  {
   "cell_type": "code",
   "execution_count": 298,
   "metadata": {},
   "outputs": [],
   "source": [
    "def get_tp(user_locations,top_locations):\n",
    "    for location in user_locations:\n",
    "        if location in top_locations:\n",
    "            tp+=1\n",
    "    return tp"
   ]
  },
  {
   "cell_type": "code",
   "execution_count": 304,
   "metadata": {},
   "outputs": [
    {
     "name": "stdout",
     "output_type": "stream",
     "text": [
      "Base prectidion:  0.03875816993464052\n",
      "Cluster prectidion:  0.10324929971988796\n"
     ]
    }
   ],
   "source": [
    "#precision=tp / (tp + fp)=len(test_users)\n",
    "tp_base = 0\n",
    "tp_cluster = 0\n",
    "denom=len(test_users)*10\n",
    "\n",
    "for user in test_users:\n",
    "    user_locations = test_checkins.loc[test_checkins.user_id == user, \"location_id\"].values #usually an array\n",
    "    cluster = clusters[user]\n",
    "    #tp_base+=get_tp(user_locations,top10_locations)\n",
    "    for location in user_locations:\n",
    "        if location in top10_locations:\n",
    "            tp_base+=1\n",
    "            \n",
    "    if (cluster in train_loc_ratings.cluster_id): #if we have info for this cluster      \n",
    "        top_cluster = train_loc_ratings.loc[train_loc_ratings.cluster_id == cluster, \"location_id\"].values\n",
    "        #check if there is 10 locations, otherwise dont change\n",
    "        try:\n",
    "            top10_clusters_loc = set(top_cluster[:10])\n",
    "        except:\n",
    "            top10_clusters_loc = set(top_cluster)\n",
    "        #tp_cluster+=get_tp(user_locations,topK_cluster)\n",
    "        for location in user_locations:\n",
    "            if location in top10_clusters_loc:\n",
    "                tp_cluster+=1\n",
    "        \n",
    "base_precision=tp_base/denom\n",
    "cluster_precision=tp_cluster/denom\n",
    "print(\"Base prectidion: \", base_precision)\n",
    "print(\"Cluster prectidion: \", cluster_precision)\n",
    "\n",
    "#Same metrics but working much longer due to iterrows() \n",
    "# tp=0\n",
    "# for index, row in test_checkins.iterrows():\n",
    "#     if row[\"location_id\"] in top10_locations:\n",
    "#             tp += 1\n",
    "# base_precision=tp/len(test_users)/10\n",
    "# print(base_precision)   "
   ]
  },
  {
   "cell_type": "code",
   "execution_count": null,
   "metadata": {},
   "outputs": [],
   "source": []
  }
 ],
 "metadata": {
  "kernelspec": {
   "display_name": "Python 3",
   "language": "python",
   "name": "python3"
  },
  "language_info": {
   "codemirror_mode": {
    "name": "ipython",
    "version": 3
   },
   "file_extension": ".py",
   "mimetype": "text/x-python",
   "name": "python",
   "nbconvert_exporter": "python",
   "pygments_lexer": "ipython3",
   "version": "3.7.4"
  }
 },
 "nbformat": 4,
 "nbformat_minor": 2
}
