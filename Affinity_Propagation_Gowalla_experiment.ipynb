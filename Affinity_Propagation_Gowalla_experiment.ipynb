{
 "cells": [
  {
   "cell_type": "code",
   "execution_count": 34,
   "metadata": {},
   "outputs": [
    {
     "name": "stdout",
     "output_type": "stream",
     "text": [
      "(1900654, 2)\n"
     ]
    }
   ],
   "source": [
    "import numpy as np\n",
    "edges = np.loadtxt('Gowalla_edges.txt',dtype=int)\n",
    "print(edges.shape) #1900654 amount of pair examples\n"
   ]
  },
  {
   "cell_type": "code",
   "execution_count": 35,
   "metadata": {},
   "outputs": [],
   "source": [
    "#Just for comparison\n",
    "#Unique users amount\n",
    "nodes_dat=196591 \n",
    "#Connections between users\n",
    "edges_dat=950327\n",
    "#Total num of check ins\n",
    "checkins_dat=6442890\n"
   ]
  },
  {
   "cell_type": "code",
   "execution_count": 61,
   "metadata": {
    "scrolled": true
   },
   "outputs": [
    {
     "name": "stdout",
     "output_type": "stream",
     "text": [
      "[     0      1      2 ... 196588 196589 196590]\n",
      "196591\n",
      "(1900654,)\n",
      "(2097245, 2)\n"
     ]
    }
   ],
   "source": [
    "#Data preprocessing building message graph==similarity\n",
    "#Unique users array\n",
    "users=np.unique(edges)\n",
    "print(users)\n",
    "#Unique users amount\n",
    "n=len(users)\n",
    "print(n)\n",
    "\n",
    "# S, A, R matrices (n,n) but dimension is too large even for sparse matrix, thats why need to concatenate parts \n",
    "#or use np.array\n",
    "connections=[]\n",
    "similarity_list=[]\n",
    "\n",
    "for i in range (0,len(edges)):\n",
    "    #users connection from ->to\n",
    "    #pair=(edges[i][0],edges[i][1])\n",
    "    connections.append((edges[i][0],edges[i][1]))\n",
    "    #each connection markes as 1 in simularity array \n",
    "    similarity_list.append(1)\n",
    "    \n",
    "for user in range(0,n):\n",
    "    connections.append((user,user))# self-connection add as pair\n",
    "#transform to numpy array for memory\n",
    "similarity_array = np.array(similarity_list) #this is without self-simularity\n",
    "print(np.shape(similarity_array)) #1900654 all pairs were added \n",
    "print(np.shape(connections))#(2097245, 2) =1900654(pairs)+196591(self)"
   ]
  },
  {
   "cell_type": "code",
   "execution_count": 78,
   "metadata": {},
   "outputs": [],
   "source": [
    "def update_responsibility(S,A,R_old,connections,damping):\n",
    "    #sum in formula\n",
    "    V = S + A#(2097245\n",
    "    #need to store 2 max sum arrays because we need to avoid self value being max value\n",
    "    #initialize as -inf\n",
    "    first_max=np.repeat(-np.inf, n)#np.full(-np.inf,n)#196591 as rows\n",
    "    second_max=np.repeat(-np.inf, n)\n",
    "    pair_max=np.repeat(np.inf, n)\n",
    "\n",
    "    for idx,pair in enumerate(connections):\n",
    "        #print(pair)\n",
    "        #connection and V have same dimension and idxes order\n",
    "        #for pair[0] first user update max and remember \n",
    "        if first_max[pair[0]]<V[idx]:\n",
    "            second_max[pair[0]]=first_max[pair[0]]\n",
    "            first_max[pair[0]]=V[idx]\n",
    "            #store number of second user with which first one has max V\n",
    "            pair_max[pair[0]]=pair[1]\n",
    "        elif second_max[pair[0]]<V[idx]:\n",
    "            second_max[pair[0]]=V[idx]\n",
    "    #because we need to substract max from it        \n",
    "    R=S.copy()   \n",
    "    for idx,pair in enumerate(connections):\n",
    "        #if it is self responsibility value then take second_max \n",
    "        if pair_max[pair[0]] == pair[1]:\n",
    "            R[idx]-=second_max[pair[0]]\n",
    "        else:\n",
    "            R[idx]-=first_max[pair[0]]\n",
    "        \n",
    "    return R_old*damping+(1-damping)*R\n",
    "    #return R"
   ]
  },
  {
   "cell_type": "code",
   "execution_count": 79,
   "metadata": {},
   "outputs": [],
   "source": [
    "def update_availability(A,R,connections,damping):\n",
    "    A_old=A.copy()\n",
    "    #drop self-resp values\n",
    "    R_copy = R.copy()\n",
    "    #max between 0 and responsibility value (if negative make it zero), a(k,k) counted here\n",
    "    #len(edges) meaning we dont consider self-r values\n",
    "    for i in range(0,len(edges)):\n",
    "        #r[r < 0] = 0\n",
    "        if R_copy[i] < 0:\n",
    "            R_copy[i] = 0\n",
    "    positive_r = np.repeat(0, n) #np.full(0,n)\n",
    "    \n",
    "    for idx, pair in enumerate(connections):\n",
    "        positive_r[pair[1]] += R_copy[idx]\n",
    "    \n",
    "    for idx, pair in enumerate(connections):\n",
    "        A[idx] = positive_r[pair[1]] - R_copy[idx]\n",
    "    #count min\n",
    "    for i in range(0,len(edges)):\n",
    "        A[i] = np.min([0, A[i]])\n",
    "    return A_old*damping+(1-damping)*A\n",
    "    #return A"
   ]
  },
  {
   "cell_type": "code",
   "execution_count": 80,
   "metadata": {},
   "outputs": [],
   "source": [
    "def get_exemplars(R,A,connections):\n",
    "    temp = np.repeat(-np.inf, n)# stores max values for comparison\n",
    "    exemplars = dict() #store as dictionary with indexes because otherwise indexes is non int values for transitivity\n",
    "    #sum responsibility and availability \n",
    "    value_sum = R+A\n",
    "    # for each user get exemplar\n",
    "    for idx, pair in enumerate(connections):\n",
    "        #find max val\n",
    "        #if value_sum for this user is bigger than stored max value, then update\n",
    "        # and add user idx with which this msx value is achieved as exemplar for initial user\n",
    "        if value_sum[idx] > temp[pair[0]]:\n",
    "            temp[pair[0]] = value_sum[idx]\n",
    "            exemplars[pair[0]] = pair[1] #for user_1 store user_2 as exemplar (if value_sum with user_2 is bigger)\n",
    "    for i in range(5):        \n",
    "        for exempl_a in exemplars.keys(): \n",
    "            exempl_b = exemplars[exempl_a] #exemplar b for user a\n",
    "            if exemplars[exempl_b] != exempl_b: #if b is not exemplar for b (self-exemplar)\n",
    "                exempl_с = exemplars[exempl_b] #find exemplar for b, it is c\n",
    "                exemplars[exempl_a] = exempl_с #update main: put exemplar c as exemplae for a  \n",
    "    return exemplars"
   ]
  },
  {
   "cell_type": "code",
   "execution_count": 81,
   "metadata": {},
   "outputs": [],
   "source": [
    "def affinity_propagation(similarity_array_input,connections,num_iterations,self_similarity_param):\n",
    "    #Initialization \n",
    "    #similarity: 1=if there is a connection between users, 0=if there is no connection\n",
    "    #self_similarity_param=if it is self-connection\n",
    "    similarity_array=np.append(similarity_array_input,np.repeat(self_similarity_param,n))\n",
    "    #as zero\n",
    "    responsibility_array=np.repeat(0, similarity_array.shape[0])#np.zeros(len(similarity_array)) #(2097245,)\n",
    "    availability_array=np.repeat(0, similarity_array.shape[0]) #np.zeros(len(similarity_array)) #(2097245,)\n",
    "    #print(np.shape(responsibility_array)) \n",
    "    for i in range(0,num_iterations):\n",
    "        #Step 1\n",
    "        responsibility_array=update_responsibility(similarity_array,availability_array,responsibility_array,connections,damping=0.9)\n",
    "        #Step 2\n",
    "        availability_array=update_availability(availability_array,responsibility_array,connections,damping=0.9)\n",
    "        print(i)\n",
    "    #Based on counted values get examplars as max for each cluster    \n",
    "    exemplars=get_exemplars(responsibility_array,availability_array,connections)\n",
    "    #???? WHAAAAAAAAt\n",
    "    #result = transitiv_convolution(exemplars)\n",
    "    return exemplars\n",
    "\n",
    "#affinity_propagation(similarity_array,connections,1,-1.5)\n"
   ]
  },
  {
   "cell_type": "code",
   "execution_count": 82,
   "metadata": {},
   "outputs": [
    {
     "name": "stdout",
     "output_type": "stream",
     "text": [
      "0\n",
      "1\n",
      "2\n",
      "3\n",
      "4\n",
      "5\n",
      "6\n",
      "7\n",
      "8\n",
      "9\n"
     ]
    }
   ],
   "source": [
    "res_exemplars = affinity_propagation(similarity_array,connections,10,-1.5)"
   ]
  },
  {
   "cell_type": "code",
   "execution_count": 83,
   "metadata": {},
   "outputs": [
    {
     "data": {
      "text/plain": [
       "5877"
      ]
     },
     "execution_count": 83,
     "metadata": {},
     "output_type": "execute_result"
    }
   ],
   "source": [
    "some_set = set()\n",
    "for i in res_exemplars.values():\n",
    "    some_set.add(i)\n",
    "len(some_set)"
   ]
  },
  {
   "cell_type": "code",
   "execution_count": 84,
   "metadata": {},
   "outputs": [],
   "source": [
    "cluster_size = dict()\n",
    "for exemplar in my_exemplars.values():\n",
    "    if exemplar not in cluster_size:\n",
    "        cluster_size[exemplar] = 1\n",
    "    else:\n",
    "        cluster_size[exemplar] += 1"
   ]
  },
  {
   "cell_type": "code",
   "execution_count": 85,
   "metadata": {},
   "outputs": [
    {
     "data": {
      "image/png": "[encoded data removed]",
      "text/plain": [
       "<Figure size 432x288 with 1 Axes>"
      ]
     },
     "metadata": {
      "needs_background": "light"
     },
     "output_type": "display_data"
    }
   ],
   "source": [
    "import matplotlib.pyplot as plt\n",
    "%matplotlib inline\n",
    "plt.hist(cluster_size.values(), bins=100)\n",
    "plt.show()"
   ]
  },
  {
   "cell_type": "code",
   "execution_count": 86,
   "metadata": {},
   "outputs": [
    {
     "data": {
      "text/plain": [
       "31970"
      ]
     },
     "execution_count": 86,
     "metadata": {},
     "output_type": "execute_result"
    }
   ],
   "source": [
    "max(cluster_size.values())\n",
    "\n"
   ]
  },
  {
   "cell_type": "code",
   "execution_count": 87,
   "metadata": {},
   "outputs": [
    {
     "data": {
      "text/plain": [
       "2"
      ]
     },
     "execution_count": 87,
     "metadata": {},
     "output_type": "execute_result"
    }
   ],
   "source": [
    "min(cluster_size.values())"
   ]
  },
  {
   "cell_type": "code",
   "execution_count": 88,
   "metadata": {},
   "outputs": [
    {
     "data": {
      "image/png": "[encoded data removed]",
      "text/plain": [
       "<Figure size 432x288 with 1 Axes>"
      ]
     },
     "metadata": {
      "needs_background": "light"
     },
     "output_type": "display_data"
    }
   ],
   "source": [
    "plt.hist(cluster_size.values(), bins=100, range=(0, 100))\n",
    "plt.show()"
   ]
  },
  {
   "cell_type": "code",
   "execution_count": 89,
   "metadata": {},
   "outputs": [
    {
     "data": {
      "image/png": "[encoded data removed]",
      "text/plain": [
       "<Figure size 432x288 with 1 Axes>"
      ]
     },
     "metadata": {
      "needs_background": "light"
     },
     "output_type": "display_data"
    }
   ],
   "source": [
    "import matplotlib.pyplot as plt\n",
    "fig = plt.figure()\n",
    "\n",
    "bins = range(1,12)\n",
    "\n",
    "plt.hist(cluster_size.values(), bins=bins)  # arguments are passed to np.histogram\n",
    "\n",
    "plt.xticks(np.arange(1.5,11), labels=bins)\n",
    "\n",
    "plt.xlabel(\"Clusters size\")\n",
    "plt.ylabel(\"Clusters amount\")\n",
    "plt.title(\"Bar plot size-amount for clusters with size less than 11\")\n",
    "plt.tight_layout=True\n",
    "\n",
    "plt.show()\n",
    "\n"
   ]
  },
  {
   "cell_type": "code",
   "execution_count": null,
   "metadata": {},
   "outputs": [],
   "source": []
  }
 ],
 "metadata": {
  "kernelspec": {
   "display_name": "Python 3",
   "language": "python",
   "name": "python3"
  },
  "language_info": {
   "codemirror_mode": {
    "name": "ipython",
    "version": 3
   },
   "file_extension": ".py",
   "mimetype": "text/x-python",
   "name": "python",
   "nbconvert_exporter": "python",
   "pygments_lexer": "ipython3",
   "version": "3.7.4"
  }
 },
 "nbformat": 4,
 "nbformat_minor": 2
}
